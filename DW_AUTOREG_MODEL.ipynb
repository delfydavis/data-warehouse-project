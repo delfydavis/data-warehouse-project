{
 "cells": [
  {
   "cell_type": "markdown",
   "id": "8735199a",
   "metadata": {},
   "source": [
    "### Importing Libraries"
   ]
  },
  {
   "cell_type": "code",
   "execution_count": 128,
   "id": "eea45a15",
   "metadata": {},
   "outputs": [],
   "source": [
    "import pyodbc as py\n",
    "import pandas as pd\n",
    "from matplotlib import pyplot\n",
    "from statsmodels.tsa.ar_model import AutoReg\n",
    "from statsmodels.tsa.stattools import adfuller\n",
    "from matplotlib import pyplot"
   ]
  },
  {
   "cell_type": "markdown",
   "id": "dafa67bb",
   "metadata": {},
   "source": [
    "### SQL Connection"
   ]
  },
  {
   "cell_type": "code",
   "execution_count": 129,
   "id": "92073b40",
   "metadata": {},
   "outputs": [],
   "source": [
    "conn=py.connect('Driver={ODBC Driver 17 for SQL Server};'\n",
    "               'Server=localhost\\SQLEXPRESS;'\n",
    "               'Database=DataWareHouseProject;'\n",
    "               'Trusted_Connection=yes;')\n",
    "cursor=conn.cursor()"
   ]
  },
  {
   "cell_type": "markdown",
   "id": "391331e7",
   "metadata": {},
   "source": [
    "## Query "
   ]
  },
  {
   "cell_type": "code",
   "execution_count": 130,
   "id": "86a93151",
   "metadata": {},
   "outputs": [],
   "source": [
    "sql=\"select RequestDate,count(LocumRequestID) as RequestCount from DW_LOCUMREQUEST group by RequestDate\""
   ]
  },
  {
   "cell_type": "markdown",
   "id": "af1bb441",
   "metadata": {},
   "source": [
    "## Executing query and Storing  table into Dataframe"
   ]
  },
  {
   "cell_type": "code",
   "execution_count": 131,
   "id": "19630493",
   "metadata": {},
   "outputs": [
    {
     "data": {
      "text/html": [
       "<div>\n",
       "<style scoped>\n",
       "    .dataframe tbody tr th:only-of-type {\n",
       "        vertical-align: middle;\n",
       "    }\n",
       "\n",
       "    .dataframe tbody tr th {\n",
       "        vertical-align: top;\n",
       "    }\n",
       "\n",
       "    .dataframe thead th {\n",
       "        text-align: right;\n",
       "    }\n",
       "</style>\n",
       "<table border=\"1\" class=\"dataframe\">\n",
       "  <thead>\n",
       "    <tr style=\"text-align: right;\">\n",
       "      <th></th>\n",
       "      <th>RequestCount</th>\n",
       "    </tr>\n",
       "    <tr>\n",
       "      <th>RequestDate</th>\n",
       "      <th></th>\n",
       "    </tr>\n",
       "  </thead>\n",
       "  <tbody>\n",
       "    <tr>\n",
       "      <th>2002-01-23</th>\n",
       "      <td>3</td>\n",
       "    </tr>\n",
       "    <tr>\n",
       "      <th>2002-01-24</th>\n",
       "      <td>4</td>\n",
       "    </tr>\n",
       "    <tr>\n",
       "      <th>2002-01-25</th>\n",
       "      <td>2</td>\n",
       "    </tr>\n",
       "    <tr>\n",
       "      <th>2002-01-28</th>\n",
       "      <td>1</td>\n",
       "    </tr>\n",
       "    <tr>\n",
       "      <th>2002-01-30</th>\n",
       "      <td>5</td>\n",
       "    </tr>\n",
       "  </tbody>\n",
       "</table>\n",
       "</div>"
      ],
      "text/plain": [
       "             RequestCount\n",
       "RequestDate              \n",
       "2002-01-23              3\n",
       "2002-01-24              4\n",
       "2002-01-25              2\n",
       "2002-01-28              1\n",
       "2002-01-30              5"
      ]
     },
     "execution_count": 131,
     "metadata": {},
     "output_type": "execute_result"
    }
   ],
   "source": [
    "df=pd.read_sql(sql,conn,index_col='RequestDate',parse_dates=True)\n",
    "df.head()"
   ]
  },
  {
   "cell_type": "markdown",
   "id": "a481b6cb",
   "metadata": {},
   "source": [
    "## Extracting Request Count"
   ]
  },
  {
   "cell_type": "code",
   "execution_count": 157,
   "id": "24bfe1ad",
   "metadata": {},
   "outputs": [],
   "source": [
    "X=df.values"
   ]
  },
  {
   "cell_type": "code",
   "execution_count": 158,
   "id": "deb6d305",
   "metadata": {},
   "outputs": [
    {
     "data": {
      "text/plain": [
       "array([[ 3],\n",
       "       [ 4],\n",
       "       [ 2],\n",
       "       [ 1],\n",
       "       [ 5],\n",
       "       [ 5],\n",
       "       [11],\n",
       "       [ 6],\n",
       "       [ 4],\n",
       "       [ 1],\n",
       "       [ 1],\n",
       "       [ 2],\n",
       "       [ 1],\n",
       "       [ 1],\n",
       "       [ 7],\n",
       "       [ 2],\n",
       "       [15],\n",
       "       [ 2],\n",
       "       [ 2],\n",
       "       [ 1],\n",
       "       [ 1],\n",
       "       [ 1],\n",
       "       [ 2],\n",
       "       [ 4],\n",
       "       [ 2],\n",
       "       [ 1]], dtype=int64)"
      ]
     },
     "execution_count": 158,
     "metadata": {},
     "output_type": "execute_result"
    }
   ],
   "source": [
    "X"
   ]
  },
  {
   "cell_type": "markdown",
   "id": "3818d09d",
   "metadata": {},
   "source": [
    "## Stationarity Check"
   ]
  },
  {
   "cell_type": "code",
   "execution_count": 160,
   "id": "295d3d2e",
   "metadata": {},
   "outputs": [],
   "source": [
    "def adf_test(dataset):\n",
    "  dftest = adfuller(dataset, autolag = 'AIC')\n",
    "  print(\"1. ADF : \",dftest[0])\n",
    "  print(\"2. P-Value : \", dftest[1])\n",
    "  print(\"3. Num Of Lags : \", dftest[2])\n",
    "  print(\"4. Num Of Observations Used For ADF Regression and Critical Values Calculation :\", dftest[3])\n",
    "  print(\"5. Critical Values :\")\n",
    "  for key, val in dftest[4].items():\n",
    "      print(\"\\t\",key, \": \", val)"
   ]
  },
  {
   "cell_type": "code",
   "execution_count": 161,
   "id": "9641bb5c",
   "metadata": {},
   "outputs": [
    {
     "name": "stdout",
     "output_type": "stream",
     "text": [
      "1. ADF :  -2.4009626531559967\n",
      "2. P-Value :  0.14146489127361234\n",
      "3. Num Of Lags :  9\n",
      "4. Num Of Observations Used For ADF Regression and Critical Values Calculation : 16\n",
      "5. Critical Values :\n",
      "\t 1% :  -3.9240193847656246\n",
      "\t 5% :  -3.0684982031250003\n",
      "\t 10% :  -2.67389265625\n"
     ]
    }
   ],
   "source": [
    "adf_test(df['RequestCount'])\n"
   ]
  },
  {
   "cell_type": "markdown",
   "id": "7329b707",
   "metadata": {},
   "source": [
    "**Visualising the data**"
   ]
  },
  {
   "cell_type": "code",
   "execution_count": 163,
   "id": "4f1bf507",
   "metadata": {},
   "outputs": [
    {
     "data": {
      "text/plain": [
       "<AxesSubplot:xlabel='RequestDate'>"
      ]
     },
     "execution_count": 163,
     "metadata": {},
     "output_type": "execute_result"
    },
    {
     "data": {
      "image/png": "[encoded data removed]",
      "text/plain": [
       "<Figure size 432x288 with 1 Axes>"
      ]
     },
     "metadata": {
      "needs_background": "light"
     },
     "output_type": "display_data"
    }
   ],
   "source": [
    "df.plot()"
   ]
  },
  {
   "cell_type": "markdown",
   "id": "8431e535",
   "metadata": {},
   "source": [
    "## Dataset Split"
   ]
  },
  {
   "cell_type": "code",
   "execution_count": 137,
   "id": "e3a5f447",
   "metadata": {},
   "outputs": [],
   "source": [
    "train=X[:len(X)-10]\n",
    "test=X[len(X)-10:]"
   ]
  },
  {
   "cell_type": "markdown",
   "id": "731e1957",
   "metadata": {},
   "source": [
    "## Train the Model"
   ]
  },
  {
   "cell_type": "code",
   "execution_count": 147,
   "id": "c101a291",
   "metadata": {},
   "outputs": [
    {
     "name": "stderr",
     "output_type": "stream",
     "text": [
      "C:\\Users\\DELFY DAVIS\\anaconda3\\lib\\site-packages\\statsmodels\\tsa\\ar_model.py:248: FutureWarning: The parameter names will change after 0.12 is released. Set old_names to False to use the new names now. Set old_names to True to use the old names. \n",
      "  warnings.warn(\n"
     ]
    }
   ],
   "source": [
    "model=AutoReg(train,lags=7).fit()"
   ]
  },
  {
   "cell_type": "code",
   "execution_count": 148,
   "id": "981a3315",
   "metadata": {},
   "outputs": [
    {
     "name": "stdout",
     "output_type": "stream",
     "text": [
      "                            AutoReg Model Results                             \n",
      "==============================================================================\n",
      "Dep. Variable:                      y   No. Observations:                   16\n",
      "Model:                     AutoReg(7)   Log Likelihood                 -16.324\n",
      "Method:               Conditional MLE   S.D. of innovations              1.484\n",
      "Date:                Tue, 24 May 2022   AIC                              2.790\n",
      "Time:                        02:06:00   BIC                              2.987\n",
      "Sample:                             7   HQIC                             2.364\n",
      "                                   16                                         \n",
      "==============================================================================\n",
      "                 coef    std err          z      P>|z|      [0.025      0.975]\n",
      "------------------------------------------------------------------------------\n",
      "intercept     12.7558      5.077      2.512      0.012       2.804      22.707\n",
      "y.L1          -0.4483      0.339     -1.321      0.186      -1.113       0.217\n",
      "y.L2           0.4358      0.329      1.324      0.185      -0.209       1.081\n",
      "y.L3          -0.3979      0.365     -1.092      0.275      -1.112       0.317\n",
      "y.L4          -0.9625      0.456     -2.110      0.035      -1.857      -0.068\n",
      "y.L5           0.0555      0.298      0.186      0.852      -0.529       0.640\n",
      "y.L6          -0.0748      0.246     -0.304      0.761      -0.556       0.407\n",
      "y.L7          -0.9417      0.520     -1.810      0.070      -1.961       0.078\n",
      "                                    Roots                                    \n",
      "=============================================================================\n",
      "                  Real          Imaginary           Modulus         Frequency\n",
      "-----------------------------------------------------------------------------\n",
      "AR.1           -0.9681           -0.0000j            0.9681           -0.5000\n",
      "AR.2           -0.7446           -0.5814j            0.9447           -0.3945\n",
      "AR.3           -0.7446           +0.5814j            0.9447            0.3945\n",
      "AR.4            0.8158           -0.5663j            0.9931           -0.0966\n",
      "AR.5            0.8158           +0.5663j            0.9931            0.0966\n",
      "AR.6            0.3731           -1.0521j            1.1163           -0.1958\n",
      "AR.7            0.3731           +1.0521j            1.1163            0.1958\n",
      "-----------------------------------------------------------------------------\n"
     ]
    }
   ],
   "source": [
    "print(model.summary())"
   ]
  },
  {
   "cell_type": "markdown",
   "id": "419b4420",
   "metadata": {},
   "source": [
    "## Prediction of values"
   ]
  },
  {
   "cell_type": "code",
   "execution_count": 149,
   "id": "7863393c",
   "metadata": {},
   "outputs": [],
   "source": [
    "pred=model.predict(start=len(train),end=len(X)-1,dynamic=False)"
   ]
  },
  {
   "cell_type": "code",
   "execution_count": 150,
   "id": "2485a3b8",
   "metadata": {},
   "outputs": [
    {
     "name": "stdout",
     "output_type": "stream",
     "text": [
      "[12.64402786  3.17529879  7.4066225   3.23486887 -0.25438852  2.23609737\n",
      "  0.57330062 -1.27294015  9.56669077 -1.69940735]\n"
     ]
    },
    {
     "data": {
      "image/png": "[encoded data removed]",
      "text/plain": [
       "<Figure size 432x288 with 1 Axes>"
      ]
     },
     "metadata": {
      "needs_background": "light"
     },
     "output_type": "display_data"
    }
   ],
   "source": [
    "pyplot.plot(pred)\n",
    "pyplot.plot(test,color='green')\n",
    "print(pred)"
   ]
  },
  {
   "cell_type": "markdown",
   "id": "77c6d693",
   "metadata": {},
   "source": [
    "**Error Calculation Using RMS**"
   ]
  },
  {
   "cell_type": "code",
   "execution_count": 151,
   "id": "c9d12237",
   "metadata": {},
   "outputs": [],
   "source": [
    "from math import sqrt\n",
    "from sklearn.metrics import mean_squared_error"
   ]
  },
  {
   "cell_type": "code",
   "execution_count": 152,
   "id": "a5baa45a",
   "metadata": {},
   "outputs": [],
   "source": [
    "rms=sqrt(mean_squared_error(test,pred))"
   ]
  },
  {
   "cell_type": "code",
   "execution_count": 153,
   "id": "e255e4d0",
   "metadata": {},
   "outputs": [
    {
     "name": "stdout",
     "output_type": "stream",
     "text": [
      "3.7234465630779257\n"
     ]
    }
   ],
   "source": [
    "print(rms)"
   ]
  },
  {
   "cell_type": "markdown",
   "id": "a7160d5b",
   "metadata": {},
   "source": [
    "**Future Prediction Of Four Values**"
   ]
  },
  {
   "cell_type": "code",
   "execution_count": 154,
   "id": "85dd4a89",
   "metadata": {},
   "outputs": [],
   "source": [
    "future_pred=model.predict(start=len(X)+1,end=len(X)+4,dynamic=False)"
   ]
  },
  {
   "cell_type": "code",
   "execution_count": 155,
   "id": "f3fe9a18",
   "metadata": {},
   "outputs": [
    {
     "data": {
      "text/plain": [
       "array([ 2.93042415,  7.11422015,  6.70085849, -2.11096265])"
      ]
     },
     "execution_count": 155,
     "metadata": {},
     "output_type": "execute_result"
    }
   ],
   "source": [
    "future_pred"
   ]
  },
  {
   "cell_type": "code",
   "execution_count": null,
   "id": "bb1a44ce",
   "metadata": {},
   "outputs": [],
   "source": []
  }
 ],
 "metadata": {
  "kernelspec": {
   "display_name": "Python 3 (ipykernel)",
   "language": "python",
   "name": "python3"
  },
  "language_info": {
   "codemirror_mode": {
    "name": "ipython",
    "version": 3
   },
   "file_extension": ".py",
   "mimetype": "text/x-python",
   "name": "python",
   "nbconvert_exporter": "python",
   "pygments_lexer": "ipython3",
   "version": "3.9.7"
  }
 },
 "nbformat": 4,
 "nbformat_minor": 5
}
