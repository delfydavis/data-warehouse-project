{
 "cells": [
  {
   "cell_type": "code",
   "execution_count": 8,
   "id": "e833e4d5",
   "metadata": {},
   "outputs": [
    {
     "name": "stdout",
     "output_type": "stream",
     "text": [
      "Requirement already satisfied: pmdarima in c:\\users\\delfy davis\\anaconda3\\lib\\site-packages (1.8.5)\n",
      "Requirement already satisfied: numpy>=1.19.3 in c:\\users\\delfy davis\\anaconda3\\lib\\site-packages (from pmdarima) (1.22.3)\n",
      "Requirement already satisfied: pandas>=0.19 in c:\\users\\delfy davis\\anaconda3\\lib\\site-packages (from pmdarima) (1.3.4)\n",
      "Requirement already satisfied: Cython!=0.29.18,>=0.29 in c:\\users\\delfy davis\\anaconda3\\lib\\site-packages (from pmdarima) (0.29.24)\n",
      "Requirement already satisfied: statsmodels!=0.12.0,>=0.11 in c:\\users\\delfy davis\\anaconda3\\lib\\site-packages (from pmdarima) (0.12.2)\n",
      "Requirement already satisfied: scipy>=1.3.2 in c:\\users\\delfy davis\\anaconda3\\lib\\site-packages (from pmdarima) (1.7.1)\n",
      "Requirement already satisfied: joblib>=0.11 in c:\\users\\delfy davis\\anaconda3\\lib\\site-packages (from pmdarima) (1.1.0)\n",
      "Requirement already satisfied: scikit-learn>=0.22 in c:\\users\\delfy davis\\anaconda3\\lib\\site-packages (from pmdarima) (0.24.2)\n",
      "Requirement already satisfied: setuptools!=50.0.0,>=38.6.0 in c:\\users\\delfy davis\\anaconda3\\lib\\site-packages (from pmdarima) (58.0.4)\n",
      "Requirement already satisfied: urllib3 in c:\\users\\delfy davis\\anaconda3\\lib\\site-packages (from pmdarima) (1.26.7)\n",
      "Requirement already satisfied: python-dateutil>=2.7.3 in c:\\users\\delfy davis\\anaconda3\\lib\\site-packages (from pandas>=0.19->pmdarima) (2.8.2)\n",
      "Requirement already satisfied: pytz>=2017.3 in c:\\users\\delfy davis\\anaconda3\\lib\\site-packages (from pandas>=0.19->pmdarima) (2021.3)\n",
      "Requirement already satisfied: six>=1.5 in c:\\users\\delfy davis\\anaconda3\\lib\\site-packages (from python-dateutil>=2.7.3->pandas>=0.19->pmdarima) (1.16.0)\n",
      "Requirement already satisfied: threadpoolctl>=2.0.0 in c:\\users\\delfy davis\\anaconda3\\lib\\site-packages (from scikit-learn>=0.22->pmdarima) (2.2.0)\n",
      "Requirement already satisfied: patsy>=0.5 in c:\\users\\delfy davis\\anaconda3\\lib\\site-packages (from statsmodels!=0.12.0,>=0.11->pmdarima) (0.5.2)\n",
      "Note: you may need to restart the kernel to use updated packages.\n"
     ]
    }
   ],
   "source": [
    "pip install pmdarima"
   ]
  },
  {
   "cell_type": "code",
   "execution_count": 170,
   "id": "3a4d5137",
   "metadata": {},
   "outputs": [],
   "source": [
    "import pyodbc as py\n",
    "import pandas as pd\n",
    "from pandas import DataFrame\n",
    "from matplotlib import pyplot\n",
    "from statsmodels.tsa.ar_model import AutoReg\n",
    "from sklearn.metrics import mean_squared_error\n",
    "import numpy\n",
    "from math import sqrt"
   ]
  },
  {
   "cell_type": "markdown",
   "id": "cd118504",
   "metadata": {},
   "source": [
    "**Displaying the drivers present**"
   ]
  },
  {
   "cell_type": "code",
   "execution_count": 171,
   "id": "e02c4eb5",
   "metadata": {},
   "outputs": [
    {
     "data": {
      "text/plain": [
       "['SQL Server',\n",
       " 'ODBC Driver 17 for SQL Server',\n",
       " 'SQL Server Native Client 11.0',\n",
       " 'SQL Server Native Client RDA 11.0']"
      ]
     },
     "execution_count": 171,
     "metadata": {},
     "output_type": "execute_result"
    }
   ],
   "source": [
    "py.drivers()"
   ]
  },
  {
   "cell_type": "markdown",
   "id": "687a78b3",
   "metadata": {},
   "source": [
    "**Making Connection with sql server**"
   ]
  },
  {
   "cell_type": "code",
   "execution_count": 172,
   "id": "84ff7e3d",
   "metadata": {},
   "outputs": [],
   "source": [
    "conn=py.connect('Driver={ODBC Driver 17 for SQL Server};'\n",
    "               'Server=localhost\\SQLEXPRESS;'\n",
    "               'Database=DataWareHouseProject;'\n",
    "               'Trusted_Connection=yes;')\n",
    "cursor=conn.cursor()"
   ]
  },
  {
   "cell_type": "markdown",
   "id": "60ad3fd6",
   "metadata": {},
   "source": [
    "**Sql query**"
   ]
  },
  {
   "cell_type": "code",
   "execution_count": 189,
   "id": "064f35a2",
   "metadata": {},
   "outputs": [],
   "source": [
    "sql=\"select RequestDate,count(LocumRequestID) as RequestCount from DW_LOCUMREQUEST group by RequestDate\""
   ]
  },
  {
   "cell_type": "markdown",
   "id": "c455b562",
   "metadata": {},
   "source": [
    "**Storing the resultant table from the query into a dataframe**"
   ]
  },
  {
   "cell_type": "code",
   "execution_count": 190,
   "id": "2b259b0f",
   "metadata": {},
   "outputs": [
    {
     "data": {
      "text/plain": [
       "(26, 2)"
      ]
     },
     "execution_count": 190,
     "metadata": {},
     "output_type": "execute_result"
    }
   ],
   "source": [
    "df=pd.read_sql(sql,conn)\n",
    "\n",
    "df.shape"
   ]
  },
  {
   "cell_type": "markdown",
   "id": "350b3d34",
   "metadata": {},
   "source": [
    "**Displaying the dataframe**"
   ]
  },
  {
   "cell_type": "code",
   "execution_count": 191,
   "id": "53fdd379",
   "metadata": {
    "scrolled": true
   },
   "outputs": [
    {
     "name": "stdout",
     "output_type": "stream",
     "text": [
      "   RequestDate  RequestCount\n",
      "0   2002-01-23             3\n",
      "1   2002-01-24             4\n",
      "2   2002-01-25             2\n",
      "3   2002-01-28             1\n",
      "4   2002-01-30             5\n",
      "5   2002-02-04             5\n",
      "6   2002-02-05            11\n",
      "7   2002-02-06             6\n",
      "8   2002-02-07             4\n",
      "9   2002-02-08             1\n",
      "10  2002-02-11             1\n",
      "11  2002-02-12             2\n",
      "12  2002-02-13             1\n",
      "13  2002-02-14             1\n",
      "14  2002-02-15             7\n",
      "15  2002-02-18             2\n",
      "16  2002-02-19            15\n",
      "17  2002-02-20             2\n",
      "18  2002-02-25             2\n",
      "19  2002-02-26             1\n",
      "20  2002-04-09             1\n",
      "21  2002-08-28             1\n",
      "22  2002-10-30             2\n",
      "23  2002-10-31             4\n",
      "24  2004-02-04             2\n",
      "25  2004-06-16             1\n"
     ]
    }
   ],
   "source": [
    "print(df)"
   ]
  },
  {
   "cell_type": "markdown",
   "id": "760c2c0a",
   "metadata": {},
   "source": [
    "**Plot Data**"
   ]
  },
  {
   "cell_type": "code",
   "execution_count": 192,
   "id": "899bd40a",
   "metadata": {},
   "outputs": [
    {
     "data": {
      "text/plain": [
       "<AxesSubplot:>"
      ]
     },
     "execution_count": 192,
     "metadata": {},
     "output_type": "execute_result"
    },
    {
     "data": {
      "image/png": "[encoded data removed]",
      "text/plain": [
       "<Figure size 864x360 with 1 Axes>"
      ]
     },
     "metadata": {
      "needs_background": "light"
     },
     "output_type": "display_data"
    }
   ],
   "source": [
    "df['RequestCount'].plot(figsize=(12,5))\n"
   ]
  },
  {
   "cell_type": "markdown",
   "id": "e660d25a",
   "metadata": {},
   "source": [
    "**Check for Stationarity**"
   ]
  },
  {
   "cell_type": "code",
   "execution_count": 193,
   "id": "1055c869",
   "metadata": {},
   "outputs": [],
   "source": [
    "from statsmodels.tsa.stattools import adfuller\n",
    "\n",
    "def adf_test(dataset):\n",
    "  df1 = adfuller(dataset, autolag = 'AIC')\n",
    "  print(\"1. ADF : \",df1[0])\n",
    "  print(\"2. P-Value : \", df1[1])\n",
    "  print(\"3. Num Of Lags : \", df1[2])\n",
    "  print(\"4. Num Of Observations Used For ADF Regression and Critical Values Calculation :\", df1[3])\n",
    "  print(\"5. Critical Values :\")\n",
    "  for key, val in df1[4].items():\n",
    "      print(\"\\t\",key, \": \", val)"
   ]
  },
  {
   "cell_type": "code",
   "execution_count": 194,
   "id": "216d0e62",
   "metadata": {},
   "outputs": [
    {
     "name": "stdout",
     "output_type": "stream",
     "text": [
      "1. ADF :  -2.4009626531559967\n",
      "2. P-Value :  0.14146489127361234\n",
      "3. Num Of Lags :  9\n",
      "4. Num Of Observations Used For ADF Regression and Critical Values Calculation : 16\n",
      "5. Critical Values :\n",
      "\t 1% :  -3.9240193847656246\n",
      "\t 5% :  -3.0684982031250003\n",
      "\t 10% :  -2.67389265625\n"
     ]
    }
   ],
   "source": [
    "adf_test(df['RequestCount'])"
   ]
  },
  {
   "cell_type": "markdown",
   "id": "a807d0bf",
   "metadata": {},
   "source": [
    "## Arima Model"
   ]
  },
  {
   "cell_type": "code",
   "execution_count": 195,
   "id": "799accee",
   "metadata": {},
   "outputs": [],
   "source": [
    "from pmdarima import auto_arima"
   ]
  },
  {
   "cell_type": "code",
   "execution_count": 196,
   "id": "6a52e393",
   "metadata": {},
   "outputs": [
    {
     "data": {
      "text/html": [
       "<table class=\"simpletable\">\n",
       "<caption>SARIMAX Results</caption>\n",
       "<tr>\n",
       "  <th>Dep. Variable:</th>           <td>y</td>        <th>  No. Observations:  </th>   <td>26</td>   \n",
       "</tr>\n",
       "<tr>\n",
       "  <th>Model:</th>                <td>SARIMAX</td>     <th>  Log Likelihood     </th> <td>-67.969</td>\n",
       "</tr>\n",
       "<tr>\n",
       "  <th>Date:</th>            <td>Mon, 23 May 2022</td> <th>  AIC                </th> <td>139.937</td>\n",
       "</tr>\n",
       "<tr>\n",
       "  <th>Time:</th>                <td>21:44:26</td>     <th>  BIC                </th> <td>142.453</td>\n",
       "</tr>\n",
       "<tr>\n",
       "  <th>Sample:</th>                  <td>0</td>        <th>  HQIC               </th> <td>140.662</td>\n",
       "</tr>\n",
       "<tr>\n",
       "  <th></th>                       <td> - 26</td>      <th>                     </th>    <td> </td>   \n",
       "</tr>\n",
       "<tr>\n",
       "  <th>Covariance Type:</th>        <td>opg</td>       <th>                     </th>    <td> </td>   \n",
       "</tr>\n",
       "</table>\n",
       "<table class=\"simpletable\">\n",
       "<tr>\n",
       "      <td></td>         <th>coef</th>     <th>std err</th>      <th>z</th>      <th>P>|z|</th>  <th>[0.025</th>    <th>0.975]</th>  \n",
       "</tr>\n",
       "<tr>\n",
       "  <th>intercept</th> <td>    3.3462</td> <td>    1.206</td> <td>    2.774</td> <td> 0.006</td> <td>    0.982</td> <td>    5.710</td>\n",
       "</tr>\n",
       "<tr>\n",
       "  <th>sigma2</th>    <td>   10.9186</td> <td>    3.194</td> <td>    3.419</td> <td> 0.001</td> <td>    4.659</td> <td>   17.178</td>\n",
       "</tr>\n",
       "</table>\n",
       "<table class=\"simpletable\">\n",
       "<tr>\n",
       "  <th>Ljung-Box (L1) (Q):</th>     <td>0.26</td> <th>  Jarque-Bera (JB):  </th> <td>38.61</td>\n",
       "</tr>\n",
       "<tr>\n",
       "  <th>Prob(Q):</th>                <td>0.61</td> <th>  Prob(JB):          </th> <td>0.00</td> \n",
       "</tr>\n",
       "<tr>\n",
       "  <th>Heteroskedasticity (H):</th> <td>0.37</td> <th>  Skew:              </th> <td>2.11</td> \n",
       "</tr>\n",
       "<tr>\n",
       "  <th>Prob(H) (two-sided):</th>    <td>0.16</td> <th>  Kurtosis:          </th> <td>7.23</td> \n",
       "</tr>\n",
       "</table><br/><br/>Warnings:<br/>[1] Covariance matrix calculated using the outer product of gradients (complex-step)."
      ],
      "text/plain": [
       "<class 'statsmodels.iolib.summary.Summary'>\n",
       "\"\"\"\n",
       "                               SARIMAX Results                                \n",
       "==============================================================================\n",
       "Dep. Variable:                      y   No. Observations:                   26\n",
       "Model:                        SARIMAX   Log Likelihood                 -67.969\n",
       "Date:                Mon, 23 May 2022   AIC                            139.937\n",
       "Time:                        21:44:26   BIC                            142.453\n",
       "Sample:                             0   HQIC                           140.662\n",
       "                                 - 26                                         \n",
       "Covariance Type:                  opg                                         \n",
       "==============================================================================\n",
       "                 coef    std err          z      P>|z|      [0.025      0.975]\n",
       "------------------------------------------------------------------------------\n",
       "intercept      3.3462      1.206      2.774      0.006       0.982       5.710\n",
       "sigma2        10.9186      3.194      3.419      0.001       4.659      17.178\n",
       "===================================================================================\n",
       "Ljung-Box (L1) (Q):                   0.26   Jarque-Bera (JB):                38.61\n",
       "Prob(Q):                              0.61   Prob(JB):                         0.00\n",
       "Heteroskedasticity (H):               0.37   Skew:                             2.11\n",
       "Prob(H) (two-sided):                  0.16   Kurtosis:                         7.23\n",
       "===================================================================================\n",
       "\n",
       "Warnings:\n",
       "[1] Covariance matrix calculated using the outer product of gradients (complex-step).\n",
       "\"\"\""
      ]
     },
     "execution_count": 196,
     "metadata": {},
     "output_type": "execute_result"
    }
   ],
   "source": [
    "stepwise_fit = auto_arima(df['RequestCount'], \n",
    "                          suppress_warnings=True)           \n",
    "\n",
    "stepwise_fit.summary()"
   ]
  },
  {
   "cell_type": "code",
   "execution_count": 197,
   "id": "c9bb04d3",
   "metadata": {},
   "outputs": [],
   "source": [
    "from statsmodels.tsa.arima_model import ARIMA"
   ]
  },
  {
   "cell_type": "markdown",
   "id": "f6146a2b",
   "metadata": {},
   "source": [
    "**DataSet Split**"
   ]
  },
  {
   "cell_type": "code",
   "execution_count": 198,
   "id": "11dc63d8",
   "metadata": {},
   "outputs": [
    {
     "name": "stdout",
     "output_type": "stream",
     "text": [
      "(26, 2)\n",
      "(21, 2) (5, 2)\n",
      "RequestDate     2002-08-28 00:00:00\n",
      "RequestCount                      1\n",
      "Name: 21, dtype: object RequestDate     2004-06-16 00:00:00\n",
      "RequestCount                      1\n",
      "Name: 25, dtype: object\n"
     ]
    }
   ],
   "source": [
    "print(df.shape)\n",
    "train=df.iloc[:-5]\n",
    "test=df.iloc[-5:]\n",
    "print(train.shape,test.shape)\n",
    "print(test.iloc[0],test.iloc[-1])\n"
   ]
  },
  {
   "cell_type": "markdown",
   "id": "fa4d4ae6",
   "metadata": {},
   "source": [
    "**Train Model**"
   ]
  },
  {
   "cell_type": "code",
   "execution_count": 199,
   "id": "79d2db12",
   "metadata": {
    "scrolled": true
   },
   "outputs": [
    {
     "name": "stderr",
     "output_type": "stream",
     "text": [
      "C:\\Users\\DELFY DAVIS\\anaconda3\\lib\\site-packages\\statsmodels\\tsa\\arima_model.py:472: FutureWarning: \n",
      "statsmodels.tsa.arima_model.ARMA and statsmodels.tsa.arima_model.ARIMA have\n",
      "been deprecated in favor of statsmodels.tsa.arima.model.ARIMA (note the .\n",
      "between arima and model) and\n",
      "statsmodels.tsa.SARIMAX. These will be removed after the 0.12 release.\n",
      "\n",
      "statsmodels.tsa.arima.model.ARIMA makes use of the statespace framework and\n",
      "is both well tested and maintained.\n",
      "\n",
      "To silence this warning and continue using ARMA and ARIMA until they are\n",
      "removed, use:\n",
      "\n",
      "import warnings\n",
      "warnings.filterwarnings('ignore', 'statsmodels.tsa.arima_model.ARMA',\n",
      "                        FutureWarning)\n",
      "warnings.filterwarnings('ignore', 'statsmodels.tsa.arima_model.ARIMA',\n",
      "                        FutureWarning)\n",
      "\n",
      "  warnings.warn(ARIMA_DEPRECATION_WARN, FutureWarning)\n"
     ]
    },
    {
     "data": {
      "text/html": [
       "<table class=\"simpletable\">\n",
       "<caption>ARIMA Model Results</caption>\n",
       "<tr>\n",
       "  <th>Dep. Variable:</th>  <td>D.RequestCount</td>  <th>  No. Observations:  </th>   <td>20</td>   \n",
       "</tr>\n",
       "<tr>\n",
       "  <th>Model:</th>          <td>ARIMA(1, 1, 0)</td>  <th>  Log Likelihood     </th> <td>-56.783</td>\n",
       "</tr>\n",
       "<tr>\n",
       "  <th>Method:</th>             <td>css-mle</td>     <th>  S.D. of innovations</th>  <td>4.102</td> \n",
       "</tr>\n",
       "<tr>\n",
       "  <th>Date:</th>          <td>Mon, 23 May 2022</td> <th>  AIC                </th> <td>119.565</td>\n",
       "</tr>\n",
       "<tr>\n",
       "  <th>Time:</th>              <td>21:44:28</td>     <th>  BIC                </th> <td>122.552</td>\n",
       "</tr>\n",
       "<tr>\n",
       "  <th>Sample:</th>                <td>1</td>        <th>  HQIC               </th> <td>120.148</td>\n",
       "</tr>\n",
       "<tr>\n",
       "  <th></th>                       <td> </td>        <th>                     </th>    <td> </td>   \n",
       "</tr>\n",
       "</table>\n",
       "<table class=\"simpletable\">\n",
       "<tr>\n",
       "            <td></td>              <th>coef</th>     <th>std err</th>      <th>z</th>      <th>P>|z|</th>  <th>[0.025</th>    <th>0.975]</th>  \n",
       "</tr>\n",
       "<tr>\n",
       "  <th>const</th>                <td>   -0.1219</td> <td>    0.605</td> <td>   -0.202</td> <td> 0.840</td> <td>   -1.307</td> <td>    1.063</td>\n",
       "</tr>\n",
       "<tr>\n",
       "  <th>ar.L1.D.RequestCount</th> <td>   -0.5444</td> <td>    0.177</td> <td>   -3.083</td> <td> 0.002</td> <td>   -0.890</td> <td>   -0.198</td>\n",
       "</tr>\n",
       "</table>\n",
       "<table class=\"simpletable\">\n",
       "<caption>Roots</caption>\n",
       "<tr>\n",
       "    <td></td>   <th>            Real</th>  <th>         Imaginary</th> <th>         Modulus</th>  <th>        Frequency</th>\n",
       "</tr>\n",
       "<tr>\n",
       "  <th>AR.1</th> <td>          -1.8369</td> <td>          +0.0000j</td> <td>           1.8369</td> <td>           0.5000</td>\n",
       "</tr>\n",
       "</table>"
      ],
      "text/plain": [
       "<class 'statsmodels.iolib.summary.Summary'>\n",
       "\"\"\"\n",
       "                             ARIMA Model Results                              \n",
       "==============================================================================\n",
       "Dep. Variable:         D.RequestCount   No. Observations:                   20\n",
       "Model:                 ARIMA(1, 1, 0)   Log Likelihood                 -56.783\n",
       "Method:                       css-mle   S.D. of innovations              4.102\n",
       "Date:                Mon, 23 May 2022   AIC                            119.565\n",
       "Time:                        21:44:28   BIC                            122.552\n",
       "Sample:                             1   HQIC                           120.148\n",
       "                                                                              \n",
       "========================================================================================\n",
       "                           coef    std err          z      P>|z|      [0.025      0.975]\n",
       "----------------------------------------------------------------------------------------\n",
       "const                   -0.1219      0.605     -0.202      0.840      -1.307       1.063\n",
       "ar.L1.D.RequestCount    -0.5444      0.177     -3.083      0.002      -0.890      -0.198\n",
       "                                    Roots                                    \n",
       "=============================================================================\n",
       "                  Real          Imaginary           Modulus         Frequency\n",
       "-----------------------------------------------------------------------------\n",
       "AR.1           -1.8369           +0.0000j            1.8369            0.5000\n",
       "-----------------------------------------------------------------------------\n",
       "\"\"\""
      ]
     },
     "execution_count": 199,
     "metadata": {},
     "output_type": "execute_result"
    }
   ],
   "source": [
    "\n",
    "from statsmodels.tsa.arima_model import ARIMA\n",
    "model=ARIMA(train['RequestCount'],order=(1,1,0))\n",
    "model=model.fit()\n",
    "model.summary()"
   ]
  },
  {
   "cell_type": "code",
   "execution_count": 200,
   "id": "9f65f91c",
   "metadata": {},
   "outputs": [
    {
     "data": {
      "text/plain": [
       "<AxesSubplot:>"
      ]
     },
     "execution_count": 200,
     "metadata": {},
     "output_type": "execute_result"
    },
    {
     "data": {
      "image/png": "[encoded data removed]",
      "text/plain": [
       "<Figure size 432x288 with 1 Axes>"
      ]
     },
     "metadata": {
      "needs_background": "light"
     },
     "output_type": "display_data"
    }
   ],
   "source": [
    "start=len(train)\n",
    "end=len(train)+len(test)-1\n",
    "pred=model.predict(start=start,end=end,typ='levels').rename('ARIMA predictions')\n",
    "pred.plot(legend=True)\n",
    "test['RequestCount'].plot(legend=True)\n"
   ]
  },
  {
   "cell_type": "code",
   "execution_count": 201,
   "id": "f9d5954e",
   "metadata": {},
   "outputs": [
    {
     "data": {
      "text/plain": [
       "<AxesSubplot:>"
      ]
     },
     "execution_count": 201,
     "metadata": {},
     "output_type": "execute_result"
    },
    {
     "data": {
      "image/png": "[encoded data removed]",
      "text/plain": [
       "<Figure size 432x288 with 1 Axes>"
      ]
     },
     "metadata": {
      "needs_background": "light"
     },
     "output_type": "display_data"
    }
   ],
   "source": [
    "pred.plot(legend='ARIMA Predictions')\n",
    "test['RequestCount'].plot(legend=True)"
   ]
  },
  {
   "cell_type": "code",
   "execution_count": 202,
   "id": "fa5557d8",
   "metadata": {},
   "outputs": [
    {
     "data": {
      "text/plain": [
       "2.0"
      ]
     },
     "execution_count": 202,
     "metadata": {},
     "output_type": "execute_result"
    }
   ],
   "source": [
    "test['RequestCount'].mean()\n"
   ]
  },
  {
   "cell_type": "markdown",
   "id": "b36b12b3",
   "metadata": {},
   "source": [
    "**RMS**"
   ]
  },
  {
   "cell_type": "code",
   "execution_count": 203,
   "id": "1267d567",
   "metadata": {},
   "outputs": [
    {
     "name": "stdout",
     "output_type": "stream",
     "text": [
      "1.793631565682063\n"
     ]
    }
   ],
   "source": [
    "from sklearn.metrics import mean_squared_error\n",
    "from math import sqrt\n",
    "rmse=sqrt(mean_squared_error(pred,test['RequestCount']))\n",
    "print(rmse)"
   ]
  },
  {
   "cell_type": "markdown",
   "id": "75869752",
   "metadata": {},
   "source": [
    "**PREDICTION**"
   ]
  },
  {
   "cell_type": "code",
   "execution_count": 204,
   "id": "42412ddf",
   "metadata": {},
   "outputs": [
    {
     "name": "stderr",
     "output_type": "stream",
     "text": [
      "C:\\Users\\DELFY DAVIS\\anaconda3\\lib\\site-packages\\statsmodels\\tsa\\arima_model.py:472: FutureWarning: \n",
      "statsmodels.tsa.arima_model.ARMA and statsmodels.tsa.arima_model.ARIMA have\n",
      "been deprecated in favor of statsmodels.tsa.arima.model.ARIMA (note the .\n",
      "between arima and model) and\n",
      "statsmodels.tsa.SARIMAX. These will be removed after the 0.12 release.\n",
      "\n",
      "statsmodels.tsa.arima.model.ARIMA makes use of the statespace framework and\n",
      "is both well tested and maintained.\n",
      "\n",
      "To silence this warning and continue using ARMA and ARIMA until they are\n",
      "removed, use:\n",
      "\n",
      "import warnings\n",
      "warnings.filterwarnings('ignore', 'statsmodels.tsa.arima_model.ARMA',\n",
      "                        FutureWarning)\n",
      "warnings.filterwarnings('ignore', 'statsmodels.tsa.arima_model.ARIMA',\n",
      "                        FutureWarning)\n",
      "\n",
      "  warnings.warn(ARIMA_DEPRECATION_WARN, FutureWarning)\n"
     ]
    },
    {
     "data": {
      "text/html": [
       "<div>\n",
       "<style scoped>\n",
       "    .dataframe tbody tr th:only-of-type {\n",
       "        vertical-align: middle;\n",
       "    }\n",
       "\n",
       "    .dataframe tbody tr th {\n",
       "        vertical-align: top;\n",
       "    }\n",
       "\n",
       "    .dataframe thead th {\n",
       "        text-align: right;\n",
       "    }\n",
       "</style>\n",
       "<table border=\"1\" class=\"dataframe\">\n",
       "  <thead>\n",
       "    <tr style=\"text-align: right;\">\n",
       "      <th></th>\n",
       "      <th>RequestDate</th>\n",
       "      <th>RequestCount</th>\n",
       "    </tr>\n",
       "  </thead>\n",
       "  <tbody>\n",
       "    <tr>\n",
       "      <th>21</th>\n",
       "      <td>2002-08-28</td>\n",
       "      <td>1</td>\n",
       "    </tr>\n",
       "    <tr>\n",
       "      <th>22</th>\n",
       "      <td>2002-10-30</td>\n",
       "      <td>2</td>\n",
       "    </tr>\n",
       "    <tr>\n",
       "      <th>23</th>\n",
       "      <td>2002-10-31</td>\n",
       "      <td>4</td>\n",
       "    </tr>\n",
       "    <tr>\n",
       "      <th>24</th>\n",
       "      <td>2004-02-04</td>\n",
       "      <td>2</td>\n",
       "    </tr>\n",
       "    <tr>\n",
       "      <th>25</th>\n",
       "      <td>2004-06-16</td>\n",
       "      <td>1</td>\n",
       "    </tr>\n",
       "  </tbody>\n",
       "</table>\n",
       "</div>"
      ],
      "text/plain": [
       "   RequestDate  RequestCount\n",
       "21  2002-08-28             1\n",
       "22  2002-10-30             2\n",
       "23  2002-10-31             4\n",
       "24  2004-02-04             2\n",
       "25  2004-06-16             1"
      ]
     },
     "execution_count": 204,
     "metadata": {},
     "output_type": "execute_result"
    }
   ],
   "source": [
    "model2=ARIMA(test['RequestCount'],order=(1,1,0))\n",
    "model2=model2.fit()\n",
    "df.tail()"
   ]
  },
  {
   "cell_type": "code",
   "execution_count": null,
   "id": "4aed4a88",
   "metadata": {},
   "outputs": [],
   "source": []
  },
  {
   "cell_type": "code",
   "execution_count": null,
   "id": "c89350c8",
   "metadata": {},
   "outputs": [],
   "source": []
  },
  {
   "cell_type": "code",
   "execution_count": null,
   "id": "9042b9e6",
   "metadata": {},
   "outputs": [],
   "source": []
  }
 ],
 "metadata": {
  "kernelspec": {
   "display_name": "Python 3 (ipykernel)",
   "language": "python",
   "name": "python3"
  },
  "language_info": {
   "codemirror_mode": {
    "name": "ipython",
    "version": 3
   },
   "file_extension": ".py",
   "mimetype": "text/x-python",
   "name": "python",
   "nbconvert_exporter": "python",
   "pygments_lexer": "ipython3",
   "version": "3.9.7"
  }
 },
 "nbformat": 4,
 "nbformat_minor": 5
}
